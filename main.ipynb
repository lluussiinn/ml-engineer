{
 "cells": [
  {
   "cell_type": "code",
   "execution_count": 52,
   "metadata": {},
   "outputs": [],
   "source": [
    "from data_preprocessing import *\n",
    "from feature_engineering import *\n",
    "import matplotlib.pyplot as plt\n",
    "import seaborn as sns\n"
   ]
  },
  {
   "cell_type": "code",
   "execution_count": 31,
   "metadata": {},
   "outputs": [],
   "source": [
    "train_df = pd.read_csv('train.csv')\n",
    "validation_df = pd.read_csv('validation.csv')\n",
    "test_df = pd.read_csv('test.csv')"
   ]
  },
  {
   "cell_type": "code",
   "execution_count": 4,
   "metadata": {},
   "outputs": [
    {
     "data": {
      "text/html": [
       "<div>\n",
       "<style scoped>\n",
       "    .dataframe tbody tr th:only-of-type {\n",
       "        vertical-align: middle;\n",
       "    }\n",
       "\n",
       "    .dataframe tbody tr th {\n",
       "        vertical-align: top;\n",
       "    }\n",
       "\n",
       "    .dataframe thead th {\n",
       "        text-align: right;\n",
       "    }\n",
       "</style>\n",
       "<table border=\"1\" class=\"dataframe\">\n",
       "  <thead>\n",
       "    <tr style=\"text-align: right;\">\n",
       "      <th></th>\n",
       "      <th>rate</th>\n",
       "      <th>valid_miles</th>\n",
       "      <th>transport_type</th>\n",
       "      <th>weight</th>\n",
       "      <th>pickup_date</th>\n",
       "      <th>origin_kma</th>\n",
       "      <th>destination_kma</th>\n",
       "    </tr>\n",
       "  </thead>\n",
       "  <tbody>\n",
       "    <tr>\n",
       "      <th>0</th>\n",
       "      <td>4.7203</td>\n",
       "      <td>521.8451</td>\n",
       "      <td>MKPFX</td>\n",
       "      <td>9231.75</td>\n",
       "      <td>2019-11-10 10:42:00</td>\n",
       "      <td>OMUOI</td>\n",
       "      <td>LFUHN</td>\n",
       "    </tr>\n",
       "    <tr>\n",
       "      <th>1</th>\n",
       "      <td>4.9005</td>\n",
       "      <td>532.6675</td>\n",
       "      <td>MKPFX</td>\n",
       "      <td>11754.95</td>\n",
       "      <td>2019-11-10 10:42:00</td>\n",
       "      <td>OMUOI</td>\n",
       "      <td>LFUHN</td>\n",
       "    </tr>\n",
       "    <tr>\n",
       "      <th>2</th>\n",
       "      <td>4.7018</td>\n",
       "      <td>523.9188</td>\n",
       "      <td>MKPFX</td>\n",
       "      <td>9603.20</td>\n",
       "      <td>2019-11-10 10:42:00</td>\n",
       "      <td>OMUOI</td>\n",
       "      <td>LFUHN</td>\n",
       "    </tr>\n",
       "    <tr>\n",
       "      <th>3</th>\n",
       "      <td>4.6388</td>\n",
       "      <td>562.8296</td>\n",
       "      <td>MKPFX</td>\n",
       "      <td>8789.05</td>\n",
       "      <td>2019-11-10 10:42:00</td>\n",
       "      <td>OMUOI</td>\n",
       "      <td>LFUHN</td>\n",
       "    </tr>\n",
       "    <tr>\n",
       "      <th>4</th>\n",
       "      <td>5.0206</td>\n",
       "      <td>519.8782</td>\n",
       "      <td>MKPFX</td>\n",
       "      <td>9597.50</td>\n",
       "      <td>2019-11-10 10:42:00</td>\n",
       "      <td>OMUOI</td>\n",
       "      <td>LFUHN</td>\n",
       "    </tr>\n",
       "    <tr>\n",
       "      <th>...</th>\n",
       "      <td>...</td>\n",
       "      <td>...</td>\n",
       "      <td>...</td>\n",
       "      <td>...</td>\n",
       "      <td>...</td>\n",
       "      <td>...</td>\n",
       "      <td>...</td>\n",
       "    </tr>\n",
       "    <tr>\n",
       "      <th>296722</th>\n",
       "      <td>4.0141</td>\n",
       "      <td>283.5654</td>\n",
       "      <td>MKPFX</td>\n",
       "      <td>41394.00</td>\n",
       "      <td>2022-09-05 20:02:00</td>\n",
       "      <td>NUTZC</td>\n",
       "      <td>AWWEE</td>\n",
       "    </tr>\n",
       "    <tr>\n",
       "      <th>296723</th>\n",
       "      <td>5.4880</td>\n",
       "      <td>162.1160</td>\n",
       "      <td>MKPFX</td>\n",
       "      <td>15220.55</td>\n",
       "      <td>2022-09-05 20:02:00</td>\n",
       "      <td>FPZNC</td>\n",
       "      <td>NTODX</td>\n",
       "    </tr>\n",
       "    <tr>\n",
       "      <th>296724</th>\n",
       "      <td>5.3078</td>\n",
       "      <td>645.8933</td>\n",
       "      <td>KFEGT</td>\n",
       "      <td>41280.00</td>\n",
       "      <td>2022-09-05 20:12:00</td>\n",
       "      <td>RCDSS</td>\n",
       "      <td>EJLNQ</td>\n",
       "    </tr>\n",
       "    <tr>\n",
       "      <th>296725</th>\n",
       "      <td>5.2722</td>\n",
       "      <td>432.8540</td>\n",
       "      <td>MKPFX</td>\n",
       "      <td>11450.00</td>\n",
       "      <td>2022-09-05 20:42:00</td>\n",
       "      <td>OKPES</td>\n",
       "      <td>NTODX</td>\n",
       "    </tr>\n",
       "    <tr>\n",
       "      <th>296726</th>\n",
       "      <td>4.5741</td>\n",
       "      <td>785.6500</td>\n",
       "      <td>GJROY</td>\n",
       "      <td>41850.00</td>\n",
       "      <td>2022-09-05 20:42:00</td>\n",
       "      <td>NTODX</td>\n",
       "      <td>VCEUE</td>\n",
       "    </tr>\n",
       "  </tbody>\n",
       "</table>\n",
       "<p>296727 rows × 7 columns</p>\n",
       "</div>"
      ],
      "text/plain": [
       "          rate  valid_miles transport_type    weight          pickup_date  \\\n",
       "0       4.7203     521.8451          MKPFX   9231.75  2019-11-10 10:42:00   \n",
       "1       4.9005     532.6675          MKPFX  11754.95  2019-11-10 10:42:00   \n",
       "2       4.7018     523.9188          MKPFX   9603.20  2019-11-10 10:42:00   \n",
       "3       4.6388     562.8296          MKPFX   8789.05  2019-11-10 10:42:00   \n",
       "4       5.0206     519.8782          MKPFX   9597.50  2019-11-10 10:42:00   \n",
       "...        ...          ...            ...       ...                  ...   \n",
       "296722  4.0141     283.5654          MKPFX  41394.00  2022-09-05 20:02:00   \n",
       "296723  5.4880     162.1160          MKPFX  15220.55  2022-09-05 20:02:00   \n",
       "296724  5.3078     645.8933          KFEGT  41280.00  2022-09-05 20:12:00   \n",
       "296725  5.2722     432.8540          MKPFX  11450.00  2022-09-05 20:42:00   \n",
       "296726  4.5741     785.6500          GJROY  41850.00  2022-09-05 20:42:00   \n",
       "\n",
       "       origin_kma destination_kma  \n",
       "0           OMUOI           LFUHN  \n",
       "1           OMUOI           LFUHN  \n",
       "2           OMUOI           LFUHN  \n",
       "3           OMUOI           LFUHN  \n",
       "4           OMUOI           LFUHN  \n",
       "...           ...             ...  \n",
       "296722      NUTZC           AWWEE  \n",
       "296723      FPZNC           NTODX  \n",
       "296724      RCDSS           EJLNQ  \n",
       "296725      OKPES           NTODX  \n",
       "296726      NTODX           VCEUE  \n",
       "\n",
       "[296727 rows x 7 columns]"
      ]
     },
     "execution_count": 4,
     "metadata": {},
     "output_type": "execute_result"
    }
   ],
   "source": [
    "train_df"
   ]
  },
  {
   "cell_type": "code",
   "execution_count": null,
   "metadata": {},
   "outputs": [],
   "source": []
  },
  {
   "cell_type": "code",
   "execution_count": null,
   "metadata": {},
   "outputs": [],
   "source": [
    "# Create a lag feature for yesterday's rate (lag=1), also for 7 and 30 days ago\n",
    "train_df = create_lag_features(train_df, target_column='rate', lag=1)\n",
    "train_df = create_lag_features(train_df, target_column='rate', lag=7)  # Lag 7 days\n",
    "train_df = create_lag_features(train_df, target_column='rate', lag=30)  # Lag 30 days\n",
    "\n",
    "# Check the correlation between rate and lagged rates\n",
    "correlation_lag1 = train_df['rate'].corr(train_df['rate_lag1'])\n",
    "correlation_lag7 = train_df['rate'].corr(train_df['rate_lag7'])\n",
    "correlation_lag30 = train_df['rate'].corr(train_df['rate_lag30'])\n",
    "\n",
    "print(f\"Correlation between rate and rate_lag1: {correlation_lag1:.4f}\")\n",
    "print(f\"Correlation between rate and rate_lag7: {correlation_lag7:.4f}\")\n",
    "print(f\"Correlation between rate and rate_lag30: {correlation_lag30:.4f}\")"
   ]
  },
  {
   "cell_type": "markdown",
   "metadata": {},
   "source": [
    "There is little correlation between present and pas values that's why we won't add lagged features"
   ]
  },
  {
   "cell_type": "code",
   "execution_count": 33,
   "metadata": {},
   "outputs": [
    {
     "name": "stdout",
     "output_type": "stream",
     "text": [
      "                 Missing Values  Percentage (%)\n",
      "weight                       80        0.026961\n",
      "rate                          0        0.000000\n",
      "valid_miles                   0        0.000000\n",
      "transport_type                0        0.000000\n",
      "pickup_date                   0        0.000000\n",
      "origin_kma                    0        0.000000\n",
      "destination_kma               0        0.000000\n",
      "                 Missing Values  Percentage (%)\n",
      "rate                          0             0.0\n",
      "valid_miles                   0             0.0\n",
      "transport_type                0             0.0\n",
      "weight                        0             0.0\n",
      "pickup_date                   0             0.0\n",
      "origin_kma                    0             0.0\n",
      "destination_kma               0             0.0\n",
      "                 Missing Values  Percentage (%)\n",
      "valid_miles                   0             0.0\n",
      "transport_type                0             0.0\n",
      "weight                        0             0.0\n",
      "pickup_date                   0             0.0\n",
      "origin_kma                    0             0.0\n",
      "destination_kma               0             0.0\n"
     ]
    }
   ],
   "source": [
    "# Apply imputation to train, validation, and test sets\n",
    "mv_train = check_missing_values(train_df)\n",
    "mv_val = check_missing_values(validation_df)\n",
    "mv_test = check_missing_values(test_df)\n",
    "print(mv_train)\n",
    "print(mv_val)\n",
    "print(mv_test)"
   ]
  },
  {
   "cell_type": "code",
   "execution_count": 15,
   "metadata": {},
   "outputs": [
    {
     "data": {
      "image/png": "[encoded data removed]",
      "text/plain": [
       "<Figure size 640x480 with 1 Axes>"
      ]
     },
     "metadata": {},
     "output_type": "display_data"
    }
   ],
   "source": [
    "# Scatter plot for finding whether there is a correlation between weight (column with missing values) and rate(target) columns\n",
    "plt.scatter(train_df['weight'], train_df['rate'])\n",
    "plt.xlabel('Weight')\n",
    "plt.ylabel('Rate')\n",
    "plt.show()"
   ]
  },
  {
   "cell_type": "code",
   "execution_count": 19,
   "metadata": {},
   "outputs": [
    {
     "data": {
      "image/png": "[encoded data removed]",
      "text/plain": [
       "<Figure size 400x300 with 2 Axes>"
      ]
     },
     "metadata": {},
     "output_type": "display_data"
    }
   ],
   "source": [
    "# finding correlations between numeric features\n",
    "numeric_columns = train_df.select_dtypes(include=['number'])\n",
    "correlations = numeric_columns.corr()\n",
    "plt.figure(figsize=(4, 3))\n",
    "sns.heatmap(correlations, annot=True, cmap=\"coolwarm\", fmt=\".2f\")\n",
    "plt.title(\"Correlation Heatmap\")\n",
    "plt.show()"
   ]
  },
  {
   "cell_type": "code",
   "execution_count": 20,
   "metadata": {},
   "outputs": [
    {
     "data": {
      "text/html": [
       "<div>\n",
       "<style scoped>\n",
       "    .dataframe tbody tr th:only-of-type {\n",
       "        vertical-align: middle;\n",
       "    }\n",
       "\n",
       "    .dataframe tbody tr th {\n",
       "        vertical-align: top;\n",
       "    }\n",
       "\n",
       "    .dataframe thead th {\n",
       "        text-align: right;\n",
       "    }\n",
       "</style>\n",
       "<table border=\"1\" class=\"dataframe\">\n",
       "  <thead>\n",
       "    <tr style=\"text-align: right;\">\n",
       "      <th></th>\n",
       "      <th>rate</th>\n",
       "      <th>valid_miles</th>\n",
       "      <th>weight</th>\n",
       "    </tr>\n",
       "  </thead>\n",
       "  <tbody>\n",
       "    <tr>\n",
       "      <th>rate</th>\n",
       "      <td>1.000000</td>\n",
       "      <td>-0.698302</td>\n",
       "      <td>-0.118089</td>\n",
       "    </tr>\n",
       "    <tr>\n",
       "      <th>valid_miles</th>\n",
       "      <td>-0.698302</td>\n",
       "      <td>1.000000</td>\n",
       "      <td>0.220916</td>\n",
       "    </tr>\n",
       "    <tr>\n",
       "      <th>weight</th>\n",
       "      <td>-0.118089</td>\n",
       "      <td>0.220916</td>\n",
       "      <td>1.000000</td>\n",
       "    </tr>\n",
       "  </tbody>\n",
       "</table>\n",
       "</div>"
      ],
      "text/plain": [
       "                 rate  valid_miles    weight\n",
       "rate         1.000000    -0.698302 -0.118089\n",
       "valid_miles -0.698302     1.000000  0.220916\n",
       "weight      -0.118089     0.220916  1.000000"
      ]
     },
     "execution_count": 20,
     "metadata": {},
     "output_type": "execute_result"
    }
   ],
   "source": [
    "# trying another correlation types\n",
    "numeric_columns.corr(method='spearman')"
   ]
  },
  {
   "cell_type": "code",
   "execution_count": 21,
   "metadata": {},
   "outputs": [
    {
     "data": {
      "text/html": [
       "<div>\n",
       "<style scoped>\n",
       "    .dataframe tbody tr th:only-of-type {\n",
       "        vertical-align: middle;\n",
       "    }\n",
       "\n",
       "    .dataframe tbody tr th {\n",
       "        vertical-align: top;\n",
       "    }\n",
       "\n",
       "    .dataframe thead th {\n",
       "        text-align: right;\n",
       "    }\n",
       "</style>\n",
       "<table border=\"1\" class=\"dataframe\">\n",
       "  <thead>\n",
       "    <tr style=\"text-align: right;\">\n",
       "      <th></th>\n",
       "      <th>rate</th>\n",
       "      <th>valid_miles</th>\n",
       "      <th>weight</th>\n",
       "    </tr>\n",
       "  </thead>\n",
       "  <tbody>\n",
       "    <tr>\n",
       "      <th>rate</th>\n",
       "      <td>1.000000</td>\n",
       "      <td>-0.518590</td>\n",
       "      <td>-0.079011</td>\n",
       "    </tr>\n",
       "    <tr>\n",
       "      <th>valid_miles</th>\n",
       "      <td>-0.518590</td>\n",
       "      <td>1.000000</td>\n",
       "      <td>0.144134</td>\n",
       "    </tr>\n",
       "    <tr>\n",
       "      <th>weight</th>\n",
       "      <td>-0.079011</td>\n",
       "      <td>0.144134</td>\n",
       "      <td>1.000000</td>\n",
       "    </tr>\n",
       "  </tbody>\n",
       "</table>\n",
       "</div>"
      ],
      "text/plain": [
       "                 rate  valid_miles    weight\n",
       "rate         1.000000    -0.518590 -0.079011\n",
       "valid_miles -0.518590     1.000000  0.144134\n",
       "weight      -0.079011     0.144134  1.000000"
      ]
     },
     "execution_count": 21,
     "metadata": {},
     "output_type": "execute_result"
    }
   ],
   "source": [
    "numeric_columns.corr(method='kendall')"
   ]
  },
  {
   "cell_type": "markdown",
   "metadata": {},
   "source": [
    "since missing data is small proportion and has a weak correlation with the target and other numerical features it means that it is missing completely at random (MCAR), and since there are outliers we can add median value to missing ones"
   ]
  },
  {
   "cell_type": "code",
   "execution_count": 34,
   "metadata": {},
   "outputs": [],
   "source": [
    "# Apply imputation to train\n",
    "train_df = impute_missing_values(train_df, 'median')"
   ]
  },
  {
   "cell_type": "code",
   "execution_count": 53,
   "metadata": {},
   "outputs": [
    {
     "ename": "NameError",
     "evalue": "name 'add_features' is not defined",
     "output_type": "error",
     "traceback": [
      "\u001b[1;31m---------------------------------------------------------------------------\u001b[0m",
      "\u001b[1;31mNameError\u001b[0m                                 Traceback (most recent call last)",
      "Cell \u001b[1;32mIn[53], line 4\u001b[0m\n\u001b[0;32m      2\u001b[0m train_df[\u001b[38;5;124m'\u001b[39m\u001b[38;5;124mpickup_date\u001b[39m\u001b[38;5;124m'\u001b[39m] \u001b[38;5;241m=\u001b[39m pd\u001b[38;5;241m.\u001b[39mto_datetime(train_df[\u001b[38;5;124m'\u001b[39m\u001b[38;5;124mpickup_date\u001b[39m\u001b[38;5;124m'\u001b[39m])\n\u001b[0;32m      3\u001b[0m validation_df[\u001b[38;5;124m'\u001b[39m\u001b[38;5;124mpickup_date\u001b[39m\u001b[38;5;124m'\u001b[39m] \u001b[38;5;241m=\u001b[39m pd\u001b[38;5;241m.\u001b[39mto_datetime(validation_df[\u001b[38;5;124m'\u001b[39m\u001b[38;5;124mpickup_date\u001b[39m\u001b[38;5;124m'\u001b[39m])\n\u001b[1;32m----> 4\u001b[0m train_df \u001b[38;5;241m=\u001b[39m add_features(train_df)\n\u001b[0;32m      5\u001b[0m validation_df \u001b[38;5;241m=\u001b[39m add_features(validation_df)\n",
      "\u001b[1;31mNameError\u001b[0m: name 'add_features' is not defined"
     ]
    }
   ],
   "source": [
    "# Apply feature engineering - adding day of the week and month \n",
    "train_df['pickup_date'] = pd.to_datetime(train_df['pickup_date'])\n",
    "validation_df['pickup_date'] = pd.to_datetime(validation_df['pickup_date'])\n",
    "train_df = add_features(train_df)\n",
    "validation_df = add_features(validation_df)"
   ]
  },
  {
   "cell_type": "code",
   "execution_count": 48,
   "metadata": {},
   "outputs": [
    {
     "name": "stdout",
     "output_type": "stream",
     "text": [
      "c:\\Users\\Nara\\ml-engineer\\feature_engineering.py\n"
     ]
    }
   ],
   "source": [
    "import feature_engineering\n",
    "print(feature_engineering.__file__)"
   ]
  },
  {
   "cell_type": "code",
   "execution_count": null,
   "metadata": {},
   "outputs": [],
   "source": []
  }
 ],
 "metadata": {
  "kernelspec": {
   "display_name": "base",
   "language": "python",
   "name": "python3"
  },
  "language_info": {
   "codemirror_mode": {
    "name": "ipython",
    "version": 3
   },
   "file_extension": ".py",
   "mimetype": "text/x-python",
   "name": "python",
   "nbconvert_exporter": "python",
   "pygments_lexer": "ipython3",
   "version": "3.12.7"
  }
 },
 "nbformat": 4,
 "nbformat_minor": 2
}
