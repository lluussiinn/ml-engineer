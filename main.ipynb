{
 "cells": [
  {
   "cell_type": "code",
   "execution_count": 237,
   "metadata": {},
   "outputs": [],
   "source": [
    "from data_preprocessing import *\n",
    "from feature_engineering_ import *\n",
    "from model__ import *\n",
    "import matplotlib.pyplot as plt\n",
    "import seaborn as sns\n"
   ]
  },
  {
   "cell_type": "code",
   "execution_count": 252,
   "metadata": {},
   "outputs": [],
   "source": [
    "train_df = pd.read_csv('train.csv')\n",
    "validation_df = pd.read_csv('validation.csv')\n",
    "test_df = pd.read_csv('test.csv')"
   ]
  },
  {
   "cell_type": "code",
   "execution_count": 253,
   "metadata": {},
   "outputs": [
    {
     "data": {
      "text/html": [
       "<div>\n",
       "<style scoped>\n",
       "    .dataframe tbody tr th:only-of-type {\n",
       "        vertical-align: middle;\n",
       "    }\n",
       "\n",
       "    .dataframe tbody tr th {\n",
       "        vertical-align: top;\n",
       "    }\n",
       "\n",
       "    .dataframe thead th {\n",
       "        text-align: right;\n",
       "    }\n",
       "</style>\n",
       "<table border=\"1\" class=\"dataframe\">\n",
       "  <thead>\n",
       "    <tr style=\"text-align: right;\">\n",
       "      <th></th>\n",
       "      <th>rate</th>\n",
       "      <th>valid_miles</th>\n",
       "      <th>transport_type</th>\n",
       "      <th>weight</th>\n",
       "      <th>pickup_date</th>\n",
       "      <th>origin_kma</th>\n",
       "      <th>destination_kma</th>\n",
       "    </tr>\n",
       "  </thead>\n",
       "  <tbody>\n",
       "    <tr>\n",
       "      <th>0</th>\n",
       "      <td>4.7203</td>\n",
       "      <td>521.8451</td>\n",
       "      <td>MKPFX</td>\n",
       "      <td>9231.75</td>\n",
       "      <td>2019-11-10 10:42:00</td>\n",
       "      <td>OMUOI</td>\n",
       "      <td>LFUHN</td>\n",
       "    </tr>\n",
       "    <tr>\n",
       "      <th>1</th>\n",
       "      <td>4.9005</td>\n",
       "      <td>532.6675</td>\n",
       "      <td>MKPFX</td>\n",
       "      <td>11754.95</td>\n",
       "      <td>2019-11-10 10:42:00</td>\n",
       "      <td>OMUOI</td>\n",
       "      <td>LFUHN</td>\n",
       "    </tr>\n",
       "    <tr>\n",
       "      <th>2</th>\n",
       "      <td>4.7018</td>\n",
       "      <td>523.9188</td>\n",
       "      <td>MKPFX</td>\n",
       "      <td>9603.20</td>\n",
       "      <td>2019-11-10 10:42:00</td>\n",
       "      <td>OMUOI</td>\n",
       "      <td>LFUHN</td>\n",
       "    </tr>\n",
       "    <tr>\n",
       "      <th>3</th>\n",
       "      <td>4.6388</td>\n",
       "      <td>562.8296</td>\n",
       "      <td>MKPFX</td>\n",
       "      <td>8789.05</td>\n",
       "      <td>2019-11-10 10:42:00</td>\n",
       "      <td>OMUOI</td>\n",
       "      <td>LFUHN</td>\n",
       "    </tr>\n",
       "    <tr>\n",
       "      <th>4</th>\n",
       "      <td>5.0206</td>\n",
       "      <td>519.8782</td>\n",
       "      <td>MKPFX</td>\n",
       "      <td>9597.50</td>\n",
       "      <td>2019-11-10 10:42:00</td>\n",
       "      <td>OMUOI</td>\n",
       "      <td>LFUHN</td>\n",
       "    </tr>\n",
       "    <tr>\n",
       "      <th>...</th>\n",
       "      <td>...</td>\n",
       "      <td>...</td>\n",
       "      <td>...</td>\n",
       "      <td>...</td>\n",
       "      <td>...</td>\n",
       "      <td>...</td>\n",
       "      <td>...</td>\n",
       "    </tr>\n",
       "    <tr>\n",
       "      <th>296722</th>\n",
       "      <td>4.0141</td>\n",
       "      <td>283.5654</td>\n",
       "      <td>MKPFX</td>\n",
       "      <td>41394.00</td>\n",
       "      <td>2022-09-05 20:02:00</td>\n",
       "      <td>NUTZC</td>\n",
       "      <td>AWWEE</td>\n",
       "    </tr>\n",
       "    <tr>\n",
       "      <th>296723</th>\n",
       "      <td>5.4880</td>\n",
       "      <td>162.1160</td>\n",
       "      <td>MKPFX</td>\n",
       "      <td>15220.55</td>\n",
       "      <td>2022-09-05 20:02:00</td>\n",
       "      <td>FPZNC</td>\n",
       "      <td>NTODX</td>\n",
       "    </tr>\n",
       "    <tr>\n",
       "      <th>296724</th>\n",
       "      <td>5.3078</td>\n",
       "      <td>645.8933</td>\n",
       "      <td>KFEGT</td>\n",
       "      <td>41280.00</td>\n",
       "      <td>2022-09-05 20:12:00</td>\n",
       "      <td>RCDSS</td>\n",
       "      <td>EJLNQ</td>\n",
       "    </tr>\n",
       "    <tr>\n",
       "      <th>296725</th>\n",
       "      <td>5.2722</td>\n",
       "      <td>432.8540</td>\n",
       "      <td>MKPFX</td>\n",
       "      <td>11450.00</td>\n",
       "      <td>2022-09-05 20:42:00</td>\n",
       "      <td>OKPES</td>\n",
       "      <td>NTODX</td>\n",
       "    </tr>\n",
       "    <tr>\n",
       "      <th>296726</th>\n",
       "      <td>4.5741</td>\n",
       "      <td>785.6500</td>\n",
       "      <td>GJROY</td>\n",
       "      <td>41850.00</td>\n",
       "      <td>2022-09-05 20:42:00</td>\n",
       "      <td>NTODX</td>\n",
       "      <td>VCEUE</td>\n",
       "    </tr>\n",
       "  </tbody>\n",
       "</table>\n",
       "<p>296727 rows × 7 columns</p>\n",
       "</div>"
      ],
      "text/plain": [
       "          rate  valid_miles transport_type    weight          pickup_date  \\\n",
       "0       4.7203     521.8451          MKPFX   9231.75  2019-11-10 10:42:00   \n",
       "1       4.9005     532.6675          MKPFX  11754.95  2019-11-10 10:42:00   \n",
       "2       4.7018     523.9188          MKPFX   9603.20  2019-11-10 10:42:00   \n",
       "3       4.6388     562.8296          MKPFX   8789.05  2019-11-10 10:42:00   \n",
       "4       5.0206     519.8782          MKPFX   9597.50  2019-11-10 10:42:00   \n",
       "...        ...          ...            ...       ...                  ...   \n",
       "296722  4.0141     283.5654          MKPFX  41394.00  2022-09-05 20:02:00   \n",
       "296723  5.4880     162.1160          MKPFX  15220.55  2022-09-05 20:02:00   \n",
       "296724  5.3078     645.8933          KFEGT  41280.00  2022-09-05 20:12:00   \n",
       "296725  5.2722     432.8540          MKPFX  11450.00  2022-09-05 20:42:00   \n",
       "296726  4.5741     785.6500          GJROY  41850.00  2022-09-05 20:42:00   \n",
       "\n",
       "       origin_kma destination_kma  \n",
       "0           OMUOI           LFUHN  \n",
       "1           OMUOI           LFUHN  \n",
       "2           OMUOI           LFUHN  \n",
       "3           OMUOI           LFUHN  \n",
       "4           OMUOI           LFUHN  \n",
       "...           ...             ...  \n",
       "296722      NUTZC           AWWEE  \n",
       "296723      FPZNC           NTODX  \n",
       "296724      RCDSS           EJLNQ  \n",
       "296725      OKPES           NTODX  \n",
       "296726      NTODX           VCEUE  \n",
       "\n",
       "[296727 rows x 7 columns]"
      ]
     },
     "execution_count": 253,
     "metadata": {},
     "output_type": "execute_result"
    }
   ],
   "source": [
    "train_df"
   ]
  },
  {
   "cell_type": "code",
   "execution_count": null,
   "metadata": {},
   "outputs": [],
   "source": []
  },
  {
   "cell_type": "code",
   "execution_count": 254,
   "metadata": {},
   "outputs": [
    {
     "name": "stdout",
     "output_type": "stream",
     "text": [
      "Correlation between rate and rate_lag1: 0.2033\n",
      "Correlation between rate and rate_lag7: 0.0742\n",
      "Correlation between rate and rate_lag30: 0.0463\n"
     ]
    }
   ],
   "source": [
    "# Create a lag feature for yesterday's rate (lag=1), also for 7 and 30 days ago\n",
    "train_df = create_lag_features(train_df, target_column='rate', lag=1)\n",
    "train_df = create_lag_features(train_df, target_column='rate', lag=7)  # Lag 7 days\n",
    "train_df = create_lag_features(train_df, target_column='rate', lag=30)  # Lag 30 days\n",
    "\n",
    "# Check the correlation between rate and lagged rates\n",
    "correlation_lag1 = train_df['rate'].corr(train_df['rate_lag1'])\n",
    "correlation_lag7 = train_df['rate'].corr(train_df['rate_lag7'])\n",
    "correlation_lag30 = train_df['rate'].corr(train_df['rate_lag30'])\n",
    "\n",
    "print(f\"Correlation between rate and rate_lag1: {correlation_lag1:.4f}\")\n",
    "print(f\"Correlation between rate and rate_lag7: {correlation_lag7:.4f}\")\n",
    "print(f\"Correlation between rate and rate_lag30: {correlation_lag30:.4f}\")"
   ]
  },
  {
   "cell_type": "markdown",
   "metadata": {},
   "source": [
    "There is little correlation between present and pas values that's why we won't add lagged features"
   ]
  },
  {
   "cell_type": "code",
   "execution_count": 258,
   "metadata": {},
   "outputs": [],
   "source": [
    "train_df = pd.read_csv('train.csv')\n",
    "validation_df = pd.read_csv('validation.csv')\n",
    "test_df = pd.read_csv('test.csv')"
   ]
  },
  {
   "cell_type": "code",
   "execution_count": 260,
   "metadata": {},
   "outputs": [
    {
     "name": "stdout",
     "output_type": "stream",
     "text": [
      "                 Missing Values  Percentage (%)\n",
      "weight                       80        0.026961\n",
      "rate                          0        0.000000\n",
      "valid_miles                   0        0.000000\n",
      "transport_type                0        0.000000\n",
      "pickup_date                   0        0.000000\n",
      "origin_kma                    0        0.000000\n",
      "destination_kma               0        0.000000\n",
      "                 Missing Values  Percentage (%)\n",
      "rate                          0             0.0\n",
      "valid_miles                   0             0.0\n",
      "transport_type                0             0.0\n",
      "weight                        0             0.0\n",
      "pickup_date                   0             0.0\n",
      "origin_kma                    0             0.0\n",
      "destination_kma               0             0.0\n",
      "                 Missing Values  Percentage (%)\n",
      "valid_miles                   0             0.0\n",
      "transport_type                0             0.0\n",
      "weight                        0             0.0\n",
      "pickup_date                   0             0.0\n",
      "origin_kma                    0             0.0\n",
      "destination_kma               0             0.0\n"
     ]
    }
   ],
   "source": [
    "# Check missing values \n",
    "mv_train = check_missing_values(train_df)\n",
    "mv_val = check_missing_values(validation_df)\n",
    "mv_test = check_missing_values(test_df)\n",
    "print(mv_train)\n",
    "print(mv_val)\n",
    "print(mv_test)"
   ]
  },
  {
   "cell_type": "code",
   "execution_count": 261,
   "metadata": {},
   "outputs": [
    {
     "data": {
      "image/png": "[encoded data removed]",
      "text/plain": [
       "<Figure size 640x480 with 1 Axes>"
      ]
     },
     "metadata": {},
     "output_type": "display_data"
    }
   ],
   "source": [
    "# Scatter plot for finding whether there is a correlation between weight (column with missing values) and rate(target) columns\n",
    "plt.scatter(train_df['weight'], train_df['rate'])\n",
    "plt.xlabel('Weight')\n",
    "plt.ylabel('Rate')\n",
    "plt.show()"
   ]
  },
  {
   "cell_type": "code",
   "execution_count": 262,
   "metadata": {},
   "outputs": [
    {
     "data": {
      "image/png": "[encoded data removed]",
      "text/plain": [
       "<Figure size 400x300 with 2 Axes>"
      ]
     },
     "metadata": {},
     "output_type": "display_data"
    }
   ],
   "source": [
    "# finding correlations between numeric features\n",
    "numeric_columns = train_df.select_dtypes(include=['number'])\n",
    "correlations = numeric_columns.corr()\n",
    "plt.figure(figsize=(4, 3))\n",
    "sns.heatmap(correlations, annot=True, cmap=\"coolwarm\", fmt=\".2f\")\n",
    "plt.title(\"Correlation Heatmap\")\n",
    "plt.show()"
   ]
  },
  {
   "cell_type": "code",
   "execution_count": 263,
   "metadata": {},
   "outputs": [
    {
     "data": {
      "text/html": [
       "<div>\n",
       "<style scoped>\n",
       "    .dataframe tbody tr th:only-of-type {\n",
       "        vertical-align: middle;\n",
       "    }\n",
       "\n",
       "    .dataframe tbody tr th {\n",
       "        vertical-align: top;\n",
       "    }\n",
       "\n",
       "    .dataframe thead th {\n",
       "        text-align: right;\n",
       "    }\n",
       "</style>\n",
       "<table border=\"1\" class=\"dataframe\">\n",
       "  <thead>\n",
       "    <tr style=\"text-align: right;\">\n",
       "      <th></th>\n",
       "      <th>rate</th>\n",
       "      <th>valid_miles</th>\n",
       "      <th>weight</th>\n",
       "    </tr>\n",
       "  </thead>\n",
       "  <tbody>\n",
       "    <tr>\n",
       "      <th>rate</th>\n",
       "      <td>1.000000</td>\n",
       "      <td>-0.698302</td>\n",
       "      <td>-0.118108</td>\n",
       "    </tr>\n",
       "    <tr>\n",
       "      <th>valid_miles</th>\n",
       "      <td>-0.698302</td>\n",
       "      <td>1.000000</td>\n",
       "      <td>0.220949</td>\n",
       "    </tr>\n",
       "    <tr>\n",
       "      <th>weight</th>\n",
       "      <td>-0.118108</td>\n",
       "      <td>0.220949</td>\n",
       "      <td>1.000000</td>\n",
       "    </tr>\n",
       "  </tbody>\n",
       "</table>\n",
       "</div>"
      ],
      "text/plain": [
       "                 rate  valid_miles    weight\n",
       "rate         1.000000    -0.698302 -0.118108\n",
       "valid_miles -0.698302     1.000000  0.220949\n",
       "weight      -0.118108     0.220949  1.000000"
      ]
     },
     "execution_count": 263,
     "metadata": {},
     "output_type": "execute_result"
    }
   ],
   "source": [
    "# trying another correlation types\n",
    "numeric_columns.corr(method='spearman')"
   ]
  },
  {
   "cell_type": "code",
   "execution_count": 264,
   "metadata": {},
   "outputs": [
    {
     "data": {
      "text/html": [
       "<div>\n",
       "<style scoped>\n",
       "    .dataframe tbody tr th:only-of-type {\n",
       "        vertical-align: middle;\n",
       "    }\n",
       "\n",
       "    .dataframe tbody tr th {\n",
       "        vertical-align: top;\n",
       "    }\n",
       "\n",
       "    .dataframe thead th {\n",
       "        text-align: right;\n",
       "    }\n",
       "</style>\n",
       "<table border=\"1\" class=\"dataframe\">\n",
       "  <thead>\n",
       "    <tr style=\"text-align: right;\">\n",
       "      <th></th>\n",
       "      <th>rate</th>\n",
       "      <th>valid_miles</th>\n",
       "      <th>weight</th>\n",
       "    </tr>\n",
       "  </thead>\n",
       "  <tbody>\n",
       "    <tr>\n",
       "      <th>rate</th>\n",
       "      <td>1.000000</td>\n",
       "      <td>-0.518590</td>\n",
       "      <td>-0.079025</td>\n",
       "    </tr>\n",
       "    <tr>\n",
       "      <th>valid_miles</th>\n",
       "      <td>-0.518590</td>\n",
       "      <td>1.000000</td>\n",
       "      <td>0.144159</td>\n",
       "    </tr>\n",
       "    <tr>\n",
       "      <th>weight</th>\n",
       "      <td>-0.079025</td>\n",
       "      <td>0.144159</td>\n",
       "      <td>1.000000</td>\n",
       "    </tr>\n",
       "  </tbody>\n",
       "</table>\n",
       "</div>"
      ],
      "text/plain": [
       "                 rate  valid_miles    weight\n",
       "rate         1.000000    -0.518590 -0.079025\n",
       "valid_miles -0.518590     1.000000  0.144159\n",
       "weight      -0.079025     0.144159  1.000000"
      ]
     },
     "execution_count": 264,
     "metadata": {},
     "output_type": "execute_result"
    }
   ],
   "source": [
    "numeric_columns.corr(method='kendall')"
   ]
  },
  {
   "cell_type": "markdown",
   "metadata": {},
   "source": [
    "since missing data is small proportion and has a weak correlation with the target and other numerical features it means that it is missing completely at random (MCAR), and since there are outliers we can add median value to missing ones"
   ]
  },
  {
   "cell_type": "code",
   "execution_count": 265,
   "metadata": {},
   "outputs": [],
   "source": [
    "# Apply imputation to train\n",
    "train_df = impute_missing_values(train_df, 'median')"
   ]
  },
  {
   "cell_type": "code",
   "execution_count": 266,
   "metadata": {},
   "outputs": [],
   "source": [
    "def plot_numeric_features(df):\n",
    "    numeric_columns = df.select_dtypes(include=['number'])\n",
    "    for col in numeric_columns:\n",
    "        plt.figure(figsize=(12, 5))\n",
    "\n",
    "        # Histogram\n",
    "        plt.subplot(1, 2, 1)\n",
    "        df[col].plot(kind='hist', bins=30, alpha=0.7, title=f\"Histogram of {col}\")\n",
    "        plt.xlabel(col)\n",
    "        plt.ylabel(\"Frequency\")\n",
    "\n",
    "        # Boxplot\n",
    "        plt.subplot(1, 2, 2)\n",
    "        sns.boxplot(x=df[col])\n",
    "        plt.title(f\"Boxplot of {col}\")\n",
    "        plt.xlabel(col)\n",
    "\n",
    "        plt.tight_layout()\n",
    "        plt.show()"
   ]
  },
  {
   "cell_type": "code",
   "execution_count": 267,
   "metadata": {},
   "outputs": [
    {
     "data": {
      "image/png": "[encoded data removed]",
      "text/plain": [
       "<Figure size 1200x500 with 2 Axes>"
      ]
     },
     "metadata": {},
     "output_type": "display_data"
    },
    {
     "data": {
      "image/png": "[encoded data removed]",
      "text/plain": [
       "<Figure size 1200x500 with 2 Axes>"
      ]
     },
     "metadata": {},
     "output_type": "display_data"
    },
    {
     "data": {
      "image/png": "[encoded data removed]",
      "text/plain": [
       "<Figure size 1200x500 with 2 Axes>"
      ]
     },
     "metadata": {},
     "output_type": "display_data"
    }
   ],
   "source": [
    "plot_numeric_features(train_df)"
   ]
  },
  {
   "cell_type": "code",
   "execution_count": 268,
   "metadata": {},
   "outputs": [
    {
     "data": {
      "text/html": [
       "<div>\n",
       "<style scoped>\n",
       "    .dataframe tbody tr th:only-of-type {\n",
       "        vertical-align: middle;\n",
       "    }\n",
       "\n",
       "    .dataframe tbody tr th {\n",
       "        vertical-align: top;\n",
       "    }\n",
       "\n",
       "    .dataframe thead th {\n",
       "        text-align: right;\n",
       "    }\n",
       "</style>\n",
       "<table border=\"1\" class=\"dataframe\">\n",
       "  <thead>\n",
       "    <tr style=\"text-align: right;\">\n",
       "      <th></th>\n",
       "      <th>Feature</th>\n",
       "      <th>Outliers</th>\n",
       "      <th>Outlier Percentage (%)</th>\n",
       "    </tr>\n",
       "  </thead>\n",
       "  <tbody>\n",
       "    <tr>\n",
       "      <th>0</th>\n",
       "      <td>rate</td>\n",
       "      <td>15243</td>\n",
       "      <td>5.137045</td>\n",
       "    </tr>\n",
       "    <tr>\n",
       "      <th>1</th>\n",
       "      <td>valid_miles</td>\n",
       "      <td>23809</td>\n",
       "      <td>8.023874</td>\n",
       "    </tr>\n",
       "    <tr>\n",
       "      <th>2</th>\n",
       "      <td>weight</td>\n",
       "      <td>22</td>\n",
       "      <td>0.007414</td>\n",
       "    </tr>\n",
       "  </tbody>\n",
       "</table>\n",
       "</div>"
      ],
      "text/plain": [
       "       Feature  Outliers  Outlier Percentage (%)\n",
       "0         rate     15243                5.137045\n",
       "1  valid_miles     23809                8.023874\n",
       "2       weight        22                0.007414"
      ]
     },
     "execution_count": 268,
     "metadata": {},
     "output_type": "execute_result"
    }
   ],
   "source": [
    "outlier_counts = calculate_outliers(train_df)\n",
    "outlier_counts"
   ]
  },
  {
   "cell_type": "code",
   "execution_count": 269,
   "metadata": {},
   "outputs": [],
   "source": [
    "# since \"weight\" column has just a few outliers we can remove those rows\n",
    "train_df = remove_outliers(train_df, ['weight'])\n",
    "validation_df = remove_outliers(validation_df, ['weight'])"
   ]
  },
  {
   "cell_type": "code",
   "execution_count": 270,
   "metadata": {},
   "outputs": [],
   "source": [
    "# for moderate percentage of outliers we can do log trasnformation\n",
    "train_df = log_transform_features(train_df, ['valid_miles'])\n",
    "validation_df = log_transform_features(validation_df, ['valid_miles'])"
   ]
  },
  {
   "cell_type": "code",
   "execution_count": 271,
   "metadata": {},
   "outputs": [],
   "source": [
    "# Apply feature engineering - adding day of the week and month \n",
    "train_df['pickup_date'] = pd.to_datetime(train_df['pickup_date'])\n",
    "validation_df['pickup_date'] = pd.to_datetime(validation_df['pickup_date'])\n",
    "train_df = add_features(train_df)\n",
    "validation_df = add_features(validation_df)"
   ]
  },
  {
   "cell_type": "code",
   "execution_count": 272,
   "metadata": {},
   "outputs": [],
   "source": [
    "train_df = setting_index(train_df)\n",
    "validation_df = setting_index(validation_df)"
   ]
  },
  {
   "cell_type": "code",
   "execution_count": 273,
   "metadata": {},
   "outputs": [
    {
     "data": {
      "image/png": "[encoded data removed]",
      "text/plain": [
       "<Figure size 1200x600 with 1 Axes>"
      ]
     },
     "metadata": {},
     "output_type": "display_data"
    }
   ],
   "source": [
    "\n",
    "# Plot the rate over time\n",
    "plt.figure(figsize=(12, 6))\n",
    "plt.plot(train_df['rate'], label='Rate over Time')\n",
    "plt.title('Rate over Time')\n",
    "plt.xlabel('Date')\n",
    "plt.ylabel('Rate')\n",
    "plt.legend()\n",
    "plt.show()"
   ]
  },
  {
   "cell_type": "code",
   "execution_count": 274,
   "metadata": {},
   "outputs": [],
   "source": [
    "# Create a new column that combines 'origin_kma' and 'destination_kma\n",
    "train_df['origin_destination_kma'] = train_df['origin_kma'] + \"_\" + train_df['destination_kma']\n",
    "validation_df['origin_destination_kma'] = validation_df['origin_kma'] + \"_\" + validation_df['destination_kma']\n",
    "test_df['origin_destination_kma'] = test_df['origin_kma'] + \"_\" + test_df['destination_kma']"
   ]
  },
  {
   "cell_type": "code",
   "execution_count": 275,
   "metadata": {},
   "outputs": [
    {
     "data": {
      "text/html": [
       "<div>\n",
       "<style scoped>\n",
       "    .dataframe tbody tr th:only-of-type {\n",
       "        vertical-align: middle;\n",
       "    }\n",
       "\n",
       "    .dataframe tbody tr th {\n",
       "        vertical-align: top;\n",
       "    }\n",
       "\n",
       "    .dataframe thead th {\n",
       "        text-align: right;\n",
       "    }\n",
       "</style>\n",
       "<table border=\"1\" class=\"dataframe\">\n",
       "  <thead>\n",
       "    <tr style=\"text-align: right;\">\n",
       "      <th></th>\n",
       "      <th>rate</th>\n",
       "      <th>valid_miles</th>\n",
       "      <th>transport_type</th>\n",
       "      <th>weight</th>\n",
       "      <th>origin_kma</th>\n",
       "      <th>destination_kma</th>\n",
       "      <th>day_of_week</th>\n",
       "      <th>month</th>\n",
       "      <th>origin_destination_kma</th>\n",
       "    </tr>\n",
       "    <tr>\n",
       "      <th>pickup_date</th>\n",
       "      <th></th>\n",
       "      <th></th>\n",
       "      <th></th>\n",
       "      <th></th>\n",
       "      <th></th>\n",
       "      <th></th>\n",
       "      <th></th>\n",
       "      <th></th>\n",
       "      <th></th>\n",
       "    </tr>\n",
       "  </thead>\n",
       "  <tbody>\n",
       "    <tr>\n",
       "      <th>2019-11-10 10:42:00</th>\n",
       "      <td>4.7203</td>\n",
       "      <td>6.259285</td>\n",
       "      <td>MKPFX</td>\n",
       "      <td>9231.75</td>\n",
       "      <td>OMUOI</td>\n",
       "      <td>LFUHN</td>\n",
       "      <td>6</td>\n",
       "      <td>11</td>\n",
       "      <td>OMUOI_LFUHN</td>\n",
       "    </tr>\n",
       "    <tr>\n",
       "      <th>2019-11-10 10:42:00</th>\n",
       "      <td>4.9005</td>\n",
       "      <td>6.279773</td>\n",
       "      <td>MKPFX</td>\n",
       "      <td>11754.95</td>\n",
       "      <td>OMUOI</td>\n",
       "      <td>LFUHN</td>\n",
       "      <td>6</td>\n",
       "      <td>11</td>\n",
       "      <td>OMUOI_LFUHN</td>\n",
       "    </tr>\n",
       "    <tr>\n",
       "      <th>2019-11-10 10:42:00</th>\n",
       "      <td>4.7018</td>\n",
       "      <td>6.263244</td>\n",
       "      <td>MKPFX</td>\n",
       "      <td>9603.20</td>\n",
       "      <td>OMUOI</td>\n",
       "      <td>LFUHN</td>\n",
       "      <td>6</td>\n",
       "      <td>11</td>\n",
       "      <td>OMUOI_LFUHN</td>\n",
       "    </tr>\n",
       "    <tr>\n",
       "      <th>2019-11-10 10:42:00</th>\n",
       "      <td>4.6388</td>\n",
       "      <td>6.334752</td>\n",
       "      <td>MKPFX</td>\n",
       "      <td>8789.05</td>\n",
       "      <td>OMUOI</td>\n",
       "      <td>LFUHN</td>\n",
       "      <td>6</td>\n",
       "      <td>11</td>\n",
       "      <td>OMUOI_LFUHN</td>\n",
       "    </tr>\n",
       "    <tr>\n",
       "      <th>2019-11-10 10:42:00</th>\n",
       "      <td>5.0206</td>\n",
       "      <td>6.255516</td>\n",
       "      <td>MKPFX</td>\n",
       "      <td>9597.50</td>\n",
       "      <td>OMUOI</td>\n",
       "      <td>LFUHN</td>\n",
       "      <td>6</td>\n",
       "      <td>11</td>\n",
       "      <td>OMUOI_LFUHN</td>\n",
       "    </tr>\n",
       "    <tr>\n",
       "      <th>...</th>\n",
       "      <td>...</td>\n",
       "      <td>...</td>\n",
       "      <td>...</td>\n",
       "      <td>...</td>\n",
       "      <td>...</td>\n",
       "      <td>...</td>\n",
       "      <td>...</td>\n",
       "      <td>...</td>\n",
       "      <td>...</td>\n",
       "    </tr>\n",
       "    <tr>\n",
       "      <th>2022-09-05 20:02:00</th>\n",
       "      <td>4.0141</td>\n",
       "      <td>5.650963</td>\n",
       "      <td>MKPFX</td>\n",
       "      <td>41394.00</td>\n",
       "      <td>NUTZC</td>\n",
       "      <td>AWWEE</td>\n",
       "      <td>0</td>\n",
       "      <td>9</td>\n",
       "      <td>NUTZC_AWWEE</td>\n",
       "    </tr>\n",
       "    <tr>\n",
       "      <th>2022-09-05 20:02:00</th>\n",
       "      <td>5.4880</td>\n",
       "      <td>5.094462</td>\n",
       "      <td>MKPFX</td>\n",
       "      <td>15220.55</td>\n",
       "      <td>FPZNC</td>\n",
       "      <td>NTODX</td>\n",
       "      <td>0</td>\n",
       "      <td>9</td>\n",
       "      <td>FPZNC_NTODX</td>\n",
       "    </tr>\n",
       "    <tr>\n",
       "      <th>2022-09-05 20:12:00</th>\n",
       "      <td>5.3078</td>\n",
       "      <td>6.472181</td>\n",
       "      <td>KFEGT</td>\n",
       "      <td>41280.00</td>\n",
       "      <td>RCDSS</td>\n",
       "      <td>EJLNQ</td>\n",
       "      <td>0</td>\n",
       "      <td>9</td>\n",
       "      <td>RCDSS_EJLNQ</td>\n",
       "    </tr>\n",
       "    <tr>\n",
       "      <th>2022-09-05 20:42:00</th>\n",
       "      <td>5.2722</td>\n",
       "      <td>6.072708</td>\n",
       "      <td>MKPFX</td>\n",
       "      <td>11450.00</td>\n",
       "      <td>OKPES</td>\n",
       "      <td>NTODX</td>\n",
       "      <td>0</td>\n",
       "      <td>9</td>\n",
       "      <td>OKPES_NTODX</td>\n",
       "    </tr>\n",
       "    <tr>\n",
       "      <th>2022-09-05 20:42:00</th>\n",
       "      <td>4.5741</td>\n",
       "      <td>6.667783</td>\n",
       "      <td>GJROY</td>\n",
       "      <td>41850.00</td>\n",
       "      <td>NTODX</td>\n",
       "      <td>VCEUE</td>\n",
       "      <td>0</td>\n",
       "      <td>9</td>\n",
       "      <td>NTODX_VCEUE</td>\n",
       "    </tr>\n",
       "  </tbody>\n",
       "</table>\n",
       "<p>296705 rows × 9 columns</p>\n",
       "</div>"
      ],
      "text/plain": [
       "                       rate  valid_miles transport_type    weight origin_kma  \\\n",
       "pickup_date                                                                    \n",
       "2019-11-10 10:42:00  4.7203     6.259285          MKPFX   9231.75      OMUOI   \n",
       "2019-11-10 10:42:00  4.9005     6.279773          MKPFX  11754.95      OMUOI   \n",
       "2019-11-10 10:42:00  4.7018     6.263244          MKPFX   9603.20      OMUOI   \n",
       "2019-11-10 10:42:00  4.6388     6.334752          MKPFX   8789.05      OMUOI   \n",
       "2019-11-10 10:42:00  5.0206     6.255516          MKPFX   9597.50      OMUOI   \n",
       "...                     ...          ...            ...       ...        ...   \n",
       "2022-09-05 20:02:00  4.0141     5.650963          MKPFX  41394.00      NUTZC   \n",
       "2022-09-05 20:02:00  5.4880     5.094462          MKPFX  15220.55      FPZNC   \n",
       "2022-09-05 20:12:00  5.3078     6.472181          KFEGT  41280.00      RCDSS   \n",
       "2022-09-05 20:42:00  5.2722     6.072708          MKPFX  11450.00      OKPES   \n",
       "2022-09-05 20:42:00  4.5741     6.667783          GJROY  41850.00      NTODX   \n",
       "\n",
       "                    destination_kma  day_of_week  month origin_destination_kma  \n",
       "pickup_date                                                                     \n",
       "2019-11-10 10:42:00           LFUHN            6     11            OMUOI_LFUHN  \n",
       "2019-11-10 10:42:00           LFUHN            6     11            OMUOI_LFUHN  \n",
       "2019-11-10 10:42:00           LFUHN            6     11            OMUOI_LFUHN  \n",
       "2019-11-10 10:42:00           LFUHN            6     11            OMUOI_LFUHN  \n",
       "2019-11-10 10:42:00           LFUHN            6     11            OMUOI_LFUHN  \n",
       "...                             ...          ...    ...                    ...  \n",
       "2022-09-05 20:02:00           AWWEE            0      9            NUTZC_AWWEE  \n",
       "2022-09-05 20:02:00           NTODX            0      9            FPZNC_NTODX  \n",
       "2022-09-05 20:12:00           EJLNQ            0      9            RCDSS_EJLNQ  \n",
       "2022-09-05 20:42:00           NTODX            0      9            OKPES_NTODX  \n",
       "2022-09-05 20:42:00           VCEUE            0      9            NTODX_VCEUE  \n",
       "\n",
       "[296705 rows x 9 columns]"
      ]
     },
     "execution_count": 275,
     "metadata": {},
     "output_type": "execute_result"
    }
   ],
   "source": [
    "train_df"
   ]
  },
  {
   "cell_type": "code",
   "execution_count": 276,
   "metadata": {},
   "outputs": [
    {
     "data": {
      "text/plain": [
       "['transport_type', 'origin_kma', 'destination_kma', 'origin_destination_kma']"
      ]
     },
     "execution_count": 276,
     "metadata": {},
     "output_type": "execute_result"
    }
   ],
   "source": [
    "categorical_columns = train_df.select_dtypes(include='object').columns.tolist()\n",
    "categorical_columns"
   ]
  },
  {
   "cell_type": "code",
   "execution_count": 277,
   "metadata": {},
   "outputs": [],
   "source": [
    "# since there are many categories onehotencoding would we a wrong option, we can do target encoding instead\n",
    "train_df = target_encode(train_df, categorical_columns, 'rate') \n",
    "validation_df = target_encode(validation_df, categorical_columns, 'rate')  "
   ]
  },
  {
   "cell_type": "code",
   "execution_count": 278,
   "metadata": {},
   "outputs": [
    {
     "data": {
      "text/html": [
       "<div>\n",
       "<style scoped>\n",
       "    .dataframe tbody tr th:only-of-type {\n",
       "        vertical-align: middle;\n",
       "    }\n",
       "\n",
       "    .dataframe tbody tr th {\n",
       "        vertical-align: top;\n",
       "    }\n",
       "\n",
       "    .dataframe thead th {\n",
       "        text-align: right;\n",
       "    }\n",
       "</style>\n",
       "<table border=\"1\" class=\"dataframe\">\n",
       "  <thead>\n",
       "    <tr style=\"text-align: right;\">\n",
       "      <th></th>\n",
       "      <th>rate</th>\n",
       "      <th>valid_miles</th>\n",
       "      <th>transport_type</th>\n",
       "      <th>weight</th>\n",
       "      <th>origin_kma</th>\n",
       "      <th>destination_kma</th>\n",
       "      <th>day_of_week</th>\n",
       "      <th>month</th>\n",
       "      <th>origin_destination_kma</th>\n",
       "    </tr>\n",
       "    <tr>\n",
       "      <th>pickup_date</th>\n",
       "      <th></th>\n",
       "      <th></th>\n",
       "      <th></th>\n",
       "      <th></th>\n",
       "      <th></th>\n",
       "      <th></th>\n",
       "      <th></th>\n",
       "      <th></th>\n",
       "      <th></th>\n",
       "    </tr>\n",
       "  </thead>\n",
       "  <tbody>\n",
       "    <tr>\n",
       "      <th>2022-09-05 20:42:00</th>\n",
       "      <td>3.7814</td>\n",
       "      <td>6.570271</td>\n",
       "      <td>5.974313</td>\n",
       "      <td>5351.0000</td>\n",
       "      <td>7.744211</td>\n",
       "      <td>9.692907</td>\n",
       "      <td>0</td>\n",
       "      <td>9</td>\n",
       "      <td>5.122296</td>\n",
       "    </tr>\n",
       "    <tr>\n",
       "      <th>2022-09-05 20:42:00</th>\n",
       "      <td>6.6884</td>\n",
       "      <td>6.693307</td>\n",
       "      <td>5.857787</td>\n",
       "      <td>42111.2500</td>\n",
       "      <td>5.808764</td>\n",
       "      <td>6.092733</td>\n",
       "      <td>0</td>\n",
       "      <td>9</td>\n",
       "      <td>5.983062</td>\n",
       "    </tr>\n",
       "    <tr>\n",
       "      <th>2022-09-05 20:42:00</th>\n",
       "      <td>3.7735</td>\n",
       "      <td>6.860399</td>\n",
       "      <td>5.857787</td>\n",
       "      <td>14609.7000</td>\n",
       "      <td>4.761496</td>\n",
       "      <td>4.604547</td>\n",
       "      <td>0</td>\n",
       "      <td>9</td>\n",
       "      <td>5.292596</td>\n",
       "    </tr>\n",
       "    <tr>\n",
       "      <th>2022-09-05 20:42:00</th>\n",
       "      <td>8.4960</td>\n",
       "      <td>4.196630</td>\n",
       "      <td>5.857787</td>\n",
       "      <td>7192.1000</td>\n",
       "      <td>7.658214</td>\n",
       "      <td>5.388224</td>\n",
       "      <td>0</td>\n",
       "      <td>9</td>\n",
       "      <td>9.234410</td>\n",
       "    </tr>\n",
       "    <tr>\n",
       "      <th>2022-09-05 20:42:00</th>\n",
       "      <td>3.6423</td>\n",
       "      <td>7.311583</td>\n",
       "      <td>5.857787</td>\n",
       "      <td>6195.6451</td>\n",
       "      <td>4.473555</td>\n",
       "      <td>5.930353</td>\n",
       "      <td>0</td>\n",
       "      <td>9</td>\n",
       "      <td>5.197682</td>\n",
       "    </tr>\n",
       "    <tr>\n",
       "      <th>...</th>\n",
       "      <td>...</td>\n",
       "      <td>...</td>\n",
       "      <td>...</td>\n",
       "      <td>...</td>\n",
       "      <td>...</td>\n",
       "      <td>...</td>\n",
       "      <td>...</td>\n",
       "      <td>...</td>\n",
       "      <td>...</td>\n",
       "    </tr>\n",
       "    <tr>\n",
       "      <th>2022-09-22 08:42:00</th>\n",
       "      <td>3.2152</td>\n",
       "      <td>7.606306</td>\n",
       "      <td>5.857787</td>\n",
       "      <td>22422.5000</td>\n",
       "      <td>5.310413</td>\n",
       "      <td>6.080660</td>\n",
       "      <td>3</td>\n",
       "      <td>9</td>\n",
       "      <td>5.404196</td>\n",
       "    </tr>\n",
       "    <tr>\n",
       "      <th>2022-09-22 08:42:00</th>\n",
       "      <td>6.7309</td>\n",
       "      <td>6.133975</td>\n",
       "      <td>5.857787</td>\n",
       "      <td>38061.4000</td>\n",
       "      <td>4.628229</td>\n",
       "      <td>8.063555</td>\n",
       "      <td>3</td>\n",
       "      <td>9</td>\n",
       "      <td>6.223511</td>\n",
       "    </tr>\n",
       "    <tr>\n",
       "      <th>2022-09-22 08:42:00</th>\n",
       "      <td>4.1380</td>\n",
       "      <td>5.689734</td>\n",
       "      <td>5.857787</td>\n",
       "      <td>19544.0000</td>\n",
       "      <td>5.310413</td>\n",
       "      <td>3.996421</td>\n",
       "      <td>3</td>\n",
       "      <td>9</td>\n",
       "      <td>5.320997</td>\n",
       "    </tr>\n",
       "    <tr>\n",
       "      <th>2022-09-22 08:42:00</th>\n",
       "      <td>1.7749</td>\n",
       "      <td>5.774382</td>\n",
       "      <td>5.857787</td>\n",
       "      <td>40143.8000</td>\n",
       "      <td>3.733987</td>\n",
       "      <td>2.523507</td>\n",
       "      <td>3</td>\n",
       "      <td>9</td>\n",
       "      <td>2.817054</td>\n",
       "    </tr>\n",
       "    <tr>\n",
       "      <th>2022-09-22 08:42:00</th>\n",
       "      <td>6.3473</td>\n",
       "      <td>6.384195</td>\n",
       "      <td>5.857787</td>\n",
       "      <td>41107.1000</td>\n",
       "      <td>4.717609</td>\n",
       "      <td>5.336278</td>\n",
       "      <td>3</td>\n",
       "      <td>9</td>\n",
       "      <td>6.025447</td>\n",
       "    </tr>\n",
       "  </tbody>\n",
       "</table>\n",
       "<p>5000 rows × 9 columns</p>\n",
       "</div>"
      ],
      "text/plain": [
       "                       rate  valid_miles  transport_type      weight  \\\n",
       "pickup_date                                                            \n",
       "2022-09-05 20:42:00  3.7814     6.570271        5.974313   5351.0000   \n",
       "2022-09-05 20:42:00  6.6884     6.693307        5.857787  42111.2500   \n",
       "2022-09-05 20:42:00  3.7735     6.860399        5.857787  14609.7000   \n",
       "2022-09-05 20:42:00  8.4960     4.196630        5.857787   7192.1000   \n",
       "2022-09-05 20:42:00  3.6423     7.311583        5.857787   6195.6451   \n",
       "...                     ...          ...             ...         ...   \n",
       "2022-09-22 08:42:00  3.2152     7.606306        5.857787  22422.5000   \n",
       "2022-09-22 08:42:00  6.7309     6.133975        5.857787  38061.4000   \n",
       "2022-09-22 08:42:00  4.1380     5.689734        5.857787  19544.0000   \n",
       "2022-09-22 08:42:00  1.7749     5.774382        5.857787  40143.8000   \n",
       "2022-09-22 08:42:00  6.3473     6.384195        5.857787  41107.1000   \n",
       "\n",
       "                     origin_kma  destination_kma  day_of_week  month  \\\n",
       "pickup_date                                                            \n",
       "2022-09-05 20:42:00    7.744211         9.692907            0      9   \n",
       "2022-09-05 20:42:00    5.808764         6.092733            0      9   \n",
       "2022-09-05 20:42:00    4.761496         4.604547            0      9   \n",
       "2022-09-05 20:42:00    7.658214         5.388224            0      9   \n",
       "2022-09-05 20:42:00    4.473555         5.930353            0      9   \n",
       "...                         ...              ...          ...    ...   \n",
       "2022-09-22 08:42:00    5.310413         6.080660            3      9   \n",
       "2022-09-22 08:42:00    4.628229         8.063555            3      9   \n",
       "2022-09-22 08:42:00    5.310413         3.996421            3      9   \n",
       "2022-09-22 08:42:00    3.733987         2.523507            3      9   \n",
       "2022-09-22 08:42:00    4.717609         5.336278            3      9   \n",
       "\n",
       "                     origin_destination_kma  \n",
       "pickup_date                                  \n",
       "2022-09-05 20:42:00                5.122296  \n",
       "2022-09-05 20:42:00                5.983062  \n",
       "2022-09-05 20:42:00                5.292596  \n",
       "2022-09-05 20:42:00                9.234410  \n",
       "2022-09-05 20:42:00                5.197682  \n",
       "...                                     ...  \n",
       "2022-09-22 08:42:00                5.404196  \n",
       "2022-09-22 08:42:00                6.223511  \n",
       "2022-09-22 08:42:00                5.320997  \n",
       "2022-09-22 08:42:00                2.817054  \n",
       "2022-09-22 08:42:00                6.025447  \n",
       "\n",
       "[5000 rows x 9 columns]"
      ]
     },
     "execution_count": 278,
     "metadata": {},
     "output_type": "execute_result"
    }
   ],
   "source": [
    "validation_df"
   ]
  },
  {
   "cell_type": "code",
   "execution_count": 279,
   "metadata": {},
   "outputs": [],
   "source": [
    "train_df = train_df.dropna()\n",
    "validation_df = validation_df.dropna()"
   ]
  },
  {
   "cell_type": "code",
   "execution_count": 280,
   "metadata": {},
   "outputs": [],
   "source": [
    "# Split features and target variable\n",
    "X_train = train_df.drop(columns=['rate'])\n",
    "y_train = train_df['rate']\n",
    "\n",
    "X_validation = validation_df.drop(columns=['rate'])\n",
    "y_validation = validation_df['rate']"
   ]
  },
  {
   "cell_type": "code",
   "execution_count": 146,
   "metadata": {},
   "outputs": [
    {
     "name": "stdout",
     "output_type": "stream",
     "text": [
      "Performing GridSearchCV for LightGBM...\n",
      "Fitting 5 folds for each of 81 candidates, totalling 405 fits\n",
      "[LightGBM] [Info] Auto-choosing col-wise multi-threading, the overhead of testing was 0.019036 seconds.\n",
      "You can set `force_col_wise=true` to remove the overhead.\n",
      "[LightGBM] [Info] Total Bins 1061\n",
      "[LightGBM] [Info] Number of data points in the train set: 296727, number of used features: 8\n",
      "[LightGBM] [Info] Start training from score 5.221752\n",
      "Best parameters for LightGBM: {'regressor': LGBMRegressor(random_state=42), 'regressor__learning_rate': 0.05, 'regressor__max_depth': -1, 'regressor__n_estimators': 100, 'regressor__num_leaves': 70}\n",
      "Best MAPE for LightGBM: 0.1302\n",
      "Performing GridSearchCV for XGBoost...\n",
      "Fitting 5 folds for each of 54 candidates, totalling 270 fits\n",
      "Best parameters for XGBoost: {'regressor': XGBRegressor(base_score=None, booster=None, callbacks=None,\n",
      "             colsample_bylevel=None, colsample_bynode=None,\n",
      "             colsample_bytree=None, device=None, early_stopping_rounds=None,\n",
      "             enable_categorical=False, eval_metric=None, feature_types=None,\n",
      "             gamma=None, grow_policy=None, importance_type=None,\n",
      "             interaction_constraints=None, learning_rate=None, max_bin=None,\n",
      "             max_cat_threshold=None, max_cat_to_onehot=None,\n",
      "             max_delta_step=None, max_depth=None, max_leaves=None,\n",
      "             min_child_weight=None, missing=nan, monotone_constraints=None,\n",
      "             multi_strategy=None, n_estimators=None, n_jobs=None,\n",
      "             num_parallel_tree=None, random_state=42, ...), 'regressor__learning_rate': 0.05, 'regressor__max_depth': 10, 'regressor__n_estimators': 100, 'regressor__subsample': 1.0}\n",
      "Best MAPE for XGBoost: 0.1286\n",
      "Performing GridSearchCV for Random Forest...\n",
      "Fitting 5 folds for each of 24 candidates, totalling 120 fits\n",
      "Best parameters for Random Forest: {'regressor': RandomForestRegressor(random_state=42), 'regressor__max_depth': 15, 'regressor__min_samples_leaf': 2, 'regressor__min_samples_split': 2, 'regressor__n_estimators': 300}\n",
      "Best MAPE for Random Forest: 0.1278\n",
      "Validation MAPE for Best Model: 0.2601\n"
     ]
    }
   ],
   "source": [
    "#Run GridSearchCV for each model and print the results\n",
    "print(\"Performing GridSearchCV for LightGBM...\")\n",
    "lgb_search = perform_grid_search(lgb_params, X_train, y_train)\n",
    "print(f\"Best parameters for LightGBM: {lgb_search.best_params_}\")\n",
    "print(f\"Best MAPE for LightGBM: {-lgb_search.best_score_:.4f}\")\n",
    "\n",
    "print(\"Performing GridSearchCV for XGBoost...\")\n",
    "xgb_search = perform_grid_search(xgb_params, X_train, y_train)\n",
    "print(f\"Best parameters for XGBoost: {xgb_search.best_params_}\")\n",
    "print(f\"Best MAPE for XGBoost: {-xgb_search.best_score_:.4f}\")\n",
    "\n",
    "print(\"Performing GridSearchCV for Random Forest...\")\n",
    "rf_search = perform_grid_search(rf_params, X_train, y_train)\n",
    "print(f\"Best parameters for Random Forest: {rf_search.best_params_}\")\n",
    "print(f\"Best MAPE for Random Forest: {-rf_search.best_score_:.4f}\")"
   ]
  },
  {
   "cell_type": "code",
   "execution_count": 147,
   "metadata": {},
   "outputs": [
    {
     "name": "stdout",
     "output_type": "stream",
     "text": [
      "Validation MAPE for Best Model: 0.3181\n"
     ]
    }
   ],
   "source": [
    "# Choose the best model (lowest MAPE) and validate on the validation set\n",
    "best_model = xgb_search.best_estimator_  \n",
    "y_pred_validation = best_model.predict(X_validation)\n",
    "validation_mape = mean_absolute_percentage_error(y_validation, y_pred_validation)\n",
    "print(f'Validation MAPE for Best Model: {validation_mape:.4f}')"
   ]
  },
  {
   "cell_type": "code",
   "execution_count": 154,
   "metadata": {},
   "outputs": [],
   "source": [
    "def get_feature_importances(model, df):\n",
    "    \"\"\"\n",
    "    Extract feature importances from the best model.\n",
    "\n",
    "    \"\"\"\n",
    "    feature_names = df.columns.values\n",
    "    if hasattr(model.named_steps['regressor'], 'feature_importances_'):\n",
    "        importances = model.named_steps['regressor'].feature_importances_\n",
    "        return pd.DataFrame({\n",
    "            'Feature': feature_names,\n",
    "            'Importance': importances\n",
    "        }).sort_values(by='Importance', ascending=False)\n",
    "    else:\n",
    "        print(\"The selected model does not support feature importance extraction.\")\n",
    "        return None\n",
    "\n",
    "def plot_feature_importances(feature_importances):\n",
    "    \"\"\"\n",
    "    Plot feature importances as a bar chart.\n",
    "    \"\"\"\n",
    "    if feature_importances is not None:\n",
    "        plt.figure(figsize=(10, 6))\n",
    "        plt.barh(feature_importances['Feature'], feature_importances['Importance'], color='skyblue')\n",
    "        plt.xlabel('Importance')\n",
    "        plt.ylabel('Feature')\n",
    "        plt.title('Feature Importances')\n",
    "        plt.gca().invert_yaxis()\n",
    "        plt.show()"
   ]
  },
  {
   "cell_type": "code",
   "execution_count": 158,
   "metadata": {},
   "outputs": [
    {
     "data": {
      "text/html": [
       "<div>\n",
       "<style scoped>\n",
       "    .dataframe tbody tr th:only-of-type {\n",
       "        vertical-align: middle;\n",
       "    }\n",
       "\n",
       "    .dataframe tbody tr th {\n",
       "        vertical-align: top;\n",
       "    }\n",
       "\n",
       "    .dataframe thead th {\n",
       "        text-align: right;\n",
       "    }\n",
       "</style>\n",
       "<table border=\"1\" class=\"dataframe\">\n",
       "  <thead>\n",
       "    <tr style=\"text-align: right;\">\n",
       "      <th></th>\n",
       "      <th>Feature</th>\n",
       "      <th>Importance</th>\n",
       "    </tr>\n",
       "  </thead>\n",
       "  <tbody>\n",
       "    <tr>\n",
       "      <th>7</th>\n",
       "      <td>origin_destination_kma</td>\n",
       "      <td>0.747338</td>\n",
       "    </tr>\n",
       "    <tr>\n",
       "      <th>0</th>\n",
       "      <td>valid_miles</td>\n",
       "      <td>0.114804</td>\n",
       "    </tr>\n",
       "    <tr>\n",
       "      <th>1</th>\n",
       "      <td>transport_type</td>\n",
       "      <td>0.033462</td>\n",
       "    </tr>\n",
       "    <tr>\n",
       "      <th>4</th>\n",
       "      <td>destination_kma</td>\n",
       "      <td>0.025951</td>\n",
       "    </tr>\n",
       "    <tr>\n",
       "      <th>2</th>\n",
       "      <td>weight</td>\n",
       "      <td>0.020953</td>\n",
       "    </tr>\n",
       "    <tr>\n",
       "      <th>6</th>\n",
       "      <td>month</td>\n",
       "      <td>0.019538</td>\n",
       "    </tr>\n",
       "    <tr>\n",
       "      <th>5</th>\n",
       "      <td>day_of_week</td>\n",
       "      <td>0.019156</td>\n",
       "    </tr>\n",
       "    <tr>\n",
       "      <th>3</th>\n",
       "      <td>origin_kma</td>\n",
       "      <td>0.018799</td>\n",
       "    </tr>\n",
       "  </tbody>\n",
       "</table>\n",
       "</div>"
      ],
      "text/plain": [
       "                  Feature  Importance\n",
       "7  origin_destination_kma    0.747338\n",
       "0             valid_miles    0.114804\n",
       "1          transport_type    0.033462\n",
       "4         destination_kma    0.025951\n",
       "2                  weight    0.020953\n",
       "6                   month    0.019538\n",
       "5             day_of_week    0.019156\n",
       "3              origin_kma    0.018799"
      ]
     },
     "execution_count": 158,
     "metadata": {},
     "output_type": "execute_result"
    }
   ],
   "source": [
    "feature_importances= get_feature_importances(best_model, X_train)\n",
    "feature_importances"
   ]
  },
  {
   "cell_type": "code",
   "execution_count": 159,
   "metadata": {},
   "outputs": [
    {
     "data": {
      "image/png": "[encoded data removed]",
      "text/plain": [
       "<Figure size 1000x600 with 1 Axes>"
      ]
     },
     "metadata": {},
     "output_type": "display_data"
    }
   ],
   "source": [
    "plot_feature_importances(feature_importances)"
   ]
  },
  {
   "cell_type": "markdown",
   "metadata": {},
   "source": [
    "we have training MAPE 12% and validation MAPE 31%, so there is an overfitting issue"
   ]
  },
  {
   "cell_type": "markdown",
   "metadata": {},
   "source": [
    "in order to solve that \n",
    "- Add regularization parameter\n",
    "- Add early stopping\n",
    "- Remove less important features\n",
    "- Eliminate highly correlated features\n",
    "- Reduce model complexity (lower max_depth or increase min_child_weight)"
   ]
  },
  {
   "cell_type": "code",
   "execution_count": 231,
   "metadata": {},
   "outputs": [],
   "source": [
    "train_df.drop(columns=['destination_kma', 'origin_kma' , 'day_of_week', 'month'],axis=1, inplace=True)\n",
    "validation_df.drop(columns=['destination_kma', 'origin_kma' , 'day_of_week', 'month'],axis=1, inplace=True)"
   ]
  },
  {
   "cell_type": "code",
   "execution_count": 232,
   "metadata": {},
   "outputs": [],
   "source": [
    "# Updated tarin and test datasets\n",
    "X_train = train_df.drop(columns=['rate'])\n",
    "y_train = train_df['rate']\n",
    "\n",
    "X_validation = validation_df.drop(columns=['rate'])\n",
    "y_validation = validation_df['rate']"
   ]
  },
  {
   "cell_type": "code",
   "execution_count": 235,
   "metadata": {},
   "outputs": [
    {
     "name": "stdout",
     "output_type": "stream",
     "text": [
      "Performing GridSearchCV for XGBoost...\n",
      "Fitting 5 folds for each of 54 candidates, totalling 270 fits\n",
      "Best parameters for XGBoost: {'regressor': XGBRegressor(base_score=None, booster=None, callbacks=None,\n",
      "             colsample_bylevel=None, colsample_bynode=None,\n",
      "             colsample_bytree=None, device=None, early_stopping_rounds=None,\n",
      "             enable_categorical=False, eval_metric=None, feature_types=None,\n",
      "             gamma=None, grow_policy=None, importance_type=None,\n",
      "             interaction_constraints=None, learning_rate=None, max_bin=None,\n",
      "             max_cat_threshold=None, max_cat_to_onehot=None,\n",
      "             max_delta_step=None, max_depth=None, max_leaves=None,\n",
      "             min_child_weight=None, missing=nan, monotone_constraints=None,\n",
      "             multi_strategy=None, n_estimators=None, n_jobs=None,\n",
      "             num_parallel_tree=None, random_state=42, ...), 'regressor__learning_rate': 0.05, 'regressor__max_depth': 10, 'regressor__n_estimators': 100, 'regressor__subsample': 1.0}\n",
      "Best MAPE for XGBoost: 0.1286\n"
     ]
    }
   ],
   "source": [
    "print(\"Performing GridSearchCV for XGBoost...\")\n",
    "xgb_search_updated = perform_grid_search(xgb_params, X_train, y_train)\n",
    "print(f\"Best parameters for XGBoost: {xgb_search.best_params_}\")\n",
    "print(f\"Best MAPE for XGBoost: {-xgb_search.best_score_:.4f}\")"
   ]
  },
  {
   "cell_type": "code",
   "execution_count": 236,
   "metadata": {},
   "outputs": [
    {
     "name": "stdout",
     "output_type": "stream",
     "text": [
      "Validation MAPE for Best Model: 0.2972\n"
     ]
    }
   ],
   "source": [
    "# Choosing the best model (lowest MAPE) and validate on the validation set\n",
    "best_model = xgb_search_updated.best_estimator_  \n",
    "y_pred_validation = best_model.predict(X_validation)\n",
    "validation_mape = mean_absolute_percentage_error(y_validation, y_pred_validation)\n",
    "print(f'Validation MAPE for Best Model: {validation_mape:.4f}')"
   ]
  },
  {
   "cell_type": "code",
   "execution_count": null,
   "metadata": {},
   "outputs": [],
   "source": []
  }
 ],
 "metadata": {
  "kernelspec": {
   "display_name": "base",
   "language": "python",
   "name": "python3"
  },
  "language_info": {
   "codemirror_mode": {
    "name": "ipython",
    "version": 3
   },
   "file_extension": ".py",
   "mimetype": "text/x-python",
   "name": "python",
   "nbconvert_exporter": "python",
   "pygments_lexer": "ipython3",
   "version": "3.12.7"
  }
 },
 "nbformat": 4,
 "nbformat_minor": 2
}
